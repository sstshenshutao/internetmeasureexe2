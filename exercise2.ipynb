{
 "cells": [
  {
   "cell_type": "markdown",
   "metadata": {
    "collapsed": true,
    "pycharm": {
     "name": "#%% md\n"
    }
   },
   "source": [
    "a) Read up on the FCC MBA program. In particular, understand how they measure broadband performance,\n",
    "choose samples, validate their collected data, and process/analyze the data for their annual reports. Briefly\n",
    "answer the following questions: Which measurement tests do probes perform? How to they validate their data?\n",
    "Where does the FCC get data on advertised speeds? (2 points)"
   ]
  },
  {
   "cell_type": "markdown",
   "source": [
    "The data was collected from 3,192 volunteer panelists across the United\n",
    "States, the volunteer sample was covering major ISPs in the\n",
    "48 contiguous states across five broadband technologies.\n",
    "\n",
    "The probes did a hardware-based measurement, they did the following\n",
    "measurement tests: \"Download speed\", \"Upload speed\", \"Web browsing\",\n",
    "\"UDP latency\", \"UDP packet loss\", \"Voice over IP\", \"DNS resolution\",\n",
    "\"DNS failures\", \"ICMP latency\", \"ICMP packet loss\", \"UDP Latency under\n",
    "load\", \"Lightweight download speed\", and \"Lightweight upload speed\".\n",
    "\n",
    "The process for the data validation:\n",
    "panelist:\n",
    "• checked the ISP identified by running IP address test in the Whitebox.\n",
    "• detected the throughput speed accurately by flooding each panelist’s connection\n",
    "• confirmed the broadband service tier by ISP\n",
    "• compared the speed tier information to the panelist by SamKnows to ensure accurate tier validation.\n",
    "SamKnows manually:\n",
    "• Verified that the IP address with the ISP ip range.\n",
    "• removed the ISP metrics changed data during the program.\n",
    "• Identified inconsistent throughput with service tier.\n",
    "• Verified the downstream-upstream results with ISP speed tiers\n",
    "\n",
    "Advertised speed data is from ISP."
   ],
   "metadata": {
    "collapsed": false
   }
  },
  {
   "cell_type": "markdown",
   "source": [
    "b) Download and inspect the validated data from September/October 2018\n",
    ", which were used for the most\n",
    "recent annual MBA report (ninth report). How many measurement probes were part of the program as of\n",
    "Sep/Oct 2018 in total? How many of these probes were excluded from the analysis for the ninth annual report\n",
    "(absolute and relative number)? Visualize the remaining, valid probes on a map of the US based on the\n",
    "information about the unit profile and census blocks data (probes without geocoded data can be left out in the\n",
    "plot). Use different markers for different access technologies. Briefly describe the resulting plot in words, in\n",
    "particular regarding geographical distribution and clusters. Submit your numbers of probes (total, excluded\n",
    "absolute and relative), plotting script, map, and the description of the map. (3 points)"
   ],
   "metadata": {
    "collapsed": false
   }
  },
  {
   "cell_type": "markdown",
   "source": [
    "Solution b)\n",
    "\n",
    "The validated data from September/October 2018 is too large, so we do not integrate the download\n",
    "into the python program.\n",
    "\n",
    "\n",
    "We can download the validated data with \"wget\" in terminal (or python program)\n",
    "and the extracting of \"tar.gz\" file can be achieved by using \"tar\",\n",
    "we extracted the file into the \"csvdata\" folder.\n",
    "\n",
    "These operations can be achieved by running the bash file:\n",
    "```\n",
    "./download_bash.sh\n",
    "```\n",
    "The folder structure should be like this:\n",
    "```\n",
    ".\n",
    "├── convert_xlsx_csv.py\n",
    "├── csvdata\n",
    "│   ├── curr_dlping.csv\n",
    "│   ├── curr_dns.csv\n",
    "│   ├── curr_httpget.csv\n",
    "│   ├── curr_httpgetmt6.csv\n",
    "│   ├── curr_httpgetmt.csv\n",
    "│   ├── curr_httppost.csv\n",
    "│   ├── curr_httppostmt6.csv\n",
    "│   ├── curr_httppostmt.csv\n",
    "│   ├── curr_ping6.csv\n",
    "│   ├── curr_ping.csv\n",
    "│   ├── curr_udpcloss.csv\n",
    "│   ├── curr_udpjitter.csv\n",
    "│   ├── curr_udplatency6.csv\n",
    "│   ├── curr_udplatency.csv\n",
    "│   ├── curr_ulping.csv\n",
    "│   ├── curr_webget.csv\n",
    "│   └── tmp_ids.csv\n",
    "├── csvexcl\n",
    "│   └── excluded-units-sept2018.xlsx\n",
    "├── csv_id_counter.py\n",
    "├── csvup\n",
    "│   └── Unit-Profile-sept2018.xlsx\n",
    "└── download_bash.sh\n",
    "```\n",
    "Then we used the 'csv_id_counter.py' to count the \"unit_id\":\n",
    "```\n",
    "python csv_id_counter.py\n",
    "```\n",
    "The result was 5589, which means the number of distinct unit-ids in all of the csv-files was 5589.\n",
    "\n",
    "There were 2663 excluded probes in the file [excluded-units-sept2018.xlsx](https://data.fcc.gov/download/measuring-broadband-america/2019/excluded-units-sept2018.xlsx)\n",
    ", we ran the script 'exclude_probes.py' to generate a dataset which contains the remaining, valid probes.\n",
    "```\n",
    "python exclude_probes.py\n",
    "# number of valid excluded probes: 3128\n",
    "```\n",
    "then we got the number of probes: 3128.\n",
    "(However in the ninth report, the number of probes is 3192.)\n",
    "Finally, we summarized them:\n",
    "```\n",
    "total: 5589,\n",
    "excluded: 2461 (absolute), 44.03% (relative)\n",
    "remained: 3128 (absolute), 55.97% (relative)\n",
    "```\n",
    "To visualize the map, we used the following basemap: [States-21basic](https://alicia.data.socrata.com/Government/States-21basic/jhnu-yfrj)\n",
    ", which integrate in the \"geojson\" folder. To generate the plots, we used\n",
    "geopandas. The output file would be inside the folder \"question_b_output\"\n",
    "after running the following python script:\n",
    "```\n",
    "python gpd_visual.py\n",
    "# output file would be in the folder \"question_b_output\"\n",
    "```\n",
    "\n",
    "According to the ninth report, the IPBB can also be integrated into DSL, so we generated two plots:\n",
    "```\n",
    "\"question_b_output/map_with_ipbb.png\"\n",
    "\"question_b_output/map_without_ipbb.png\"\n",
    "```\n",
    "Description of the map:\n",
    "\n",
    "According to the plot, the probes are mostly distributed in the east area. Besides, the south area also has some probe clusters.\n",
    "The fiber probes come only from the big cities, also called \"Fiber City\".\n",
    "From the aspect of probes, the eastern states of the USA develop network better\n",
    "then the western states except for the west coast area.\n",
    "The DSL probes are widely distributed. They are everywhere, so the DSL is the most popular access\n",
    "technology in the whole country. The usage of the cable has also no geographical features.\n",
    "They are around the whole country. We can also know that the probes from Hawaii also participate in this program."
   ],
   "metadata": {
    "collapsed": false
   }
  },
  {
   "cell_type": "markdown",
   "source": [
    "c) Based on the unit profile data, group the probes by the following columns:\n",
    "\n",
    "• ISP\n",
    "\n",
    "• Technology\n",
    "\n",
    "• State\n",
    "\n",
    "• Census region\n",
    "\n",
    "For each group within the four columns, determine the number of probes, and the average (+ standard deviation)\n",
    "and median advertised download and upload speeds (in Mbps), respectively. Use the upper bound if the stated\n",
    "speeds are listed as an interval. Provide one CSV file for each ISP, technology, state, and census region (i.e., 4\n",
    "in total). Briefly discuss an observation for each CSV file that is interesting or surprising to you. Submit your\n",
    "analysis scripts and created CSV files. (2 points)\n"
   ],
   "metadata": {
    "collapsed": false,
    "pycharm": {
     "name": "#%% md\n"
    }
   }
  },
  {
   "cell_type": "markdown",
   "source": [
    "Solution c)\n",
    "\n",
    "The process read the remaining, valid probes (from question b), merged with the table of \"unit profile\" which contained\n",
    "the information about the advertised upload and download speeds. Then we made groups of the data with different\n",
    "approaches and **calculate the columns, such as \"avg_dl\" , \"sd_dl\", \"avg_ul\", \"sd_ul\", \"median_dl\", and \"median_ul\"**.\n",
    "\n",
    "The csv files were generated by running the python script:\n",
    "```\n",
    "# based on the tmp-file generated from question b)\n",
    "#   so run b) first.\n",
    "python question_c.py\n",
    "```\n",
    "The output files were in the folder \"question_c_output\".\n",
    "\n",
    "The result \"Census.csv\": From the average and median aspect, The northeast American has the best network speeds for both download and upload,\n",
    "whereas the midwest American are the places with lowest network speeds. This consequence is consistent with the description of question b.\n",
    "\n",
    "The result \"ISP.csv\": Optimum has the fastest advertised download speed, and Verizon has the fastest advertised upload speed.\n",
    "Verizon DSL is the slowest one. CenturyLink has the most probes.\n",
    "\n",
    "The result \"State.csv\": To our surprise, New Hampshire state has the fastest average download network speed, and Maryland\n",
    "state has the fastest average upload network speed.\n",
    "\n",
    "The result \"Technology.csv\": To our surprise, Cable has the fastest download speed, event faster than Fiber.\n",
    "As expected, Fiber has the fastest upload speed."
   ],
   "metadata": {
    "collapsed": false,
    "pycharm": {
     "name": "#%% md\n"
    }
   }
  },
  {
   "cell_type": "markdown",
   "source": [
    "d) Based on the unit profile data, plot a CDF for the advertised download and upload speeds (upper bounds)\n",
    "of each probe, with distinct curves for each access technology. Incorporate validated data from 20115\n",
    "(combine\n",
    "“CABLE” and “CABLE - BUSINESS” probes, drop empty ones), plotting them in the same figure as dashed or\n",
    "dotted lines. You can find an example (without curves for upload speeds) in h). Describe how the distributions\n",
    "for advertised speeds have changed from 2011 to 2018. Submit your scripts, plot, and discussion of the plot.\n",
    "(2 points)\n"
   ],
   "metadata": {
    "collapsed": false
   }
  },
  {
   "cell_type": "markdown",
   "source": [
    "Solution d)\n",
    "\n",
    "Normally, the discrete distribution use always PDF instead of CDF.\n",
    "Plotting the CDF for a discrete distribution is ambiguous because there are several ways to generate from PDF to CDF.\n",
    "Here we used the \"seaborn\" lib to plot it.\n",
    "\n",
    "We ran the script \"question_d.py\":\n",
    "```\n",
    "# based on the tmp-file generated from question c)\n",
    "#   so run c) first.\n",
    "python question_d.py\n",
    "```\n",
    "\n",
    "Description:\n",
    "\n",
    "In the plot, we use log function as the x-axis, so all CDF-lines can be shown clearly.\n",
    "The CDF-lines of all access technologies in both download and upload plots \"shift\" to the right.\n",
    "It means in the past 7 years, the speeds of all access technologies have increased.\n",
    "IPBB has almost the same speed as DSL, also in the ninth report, they are merged to single DSL category.\n",
    "It is worth noting that the download speed of Cable exceeds Fiber in 2018, however in 2011 the opposite.\n",
    "The ranking in the upload speed is Fiber > Cable > DSL for both years."
   ],
   "metadata": {
    "collapsed": false
   }
  },
  {
   "cell_type": "markdown",
   "source": [
    "e) Read up on Internet speed measurements. Briefly answer the following questions: Besides speed (i.e.,\n",
    "throughput), which other metrics can be used for measuring network performance? Why is using multi-threaded\n",
    "test/multiple connections important when using TCP for speed tests? Why should measurements be performed\n",
    "over a longer period of time, both in terms of individual tests but also the whole study period in total? Name and\n",
    "briefly describe two other confounding factors which can influence the results of a speed test. (2 points)"
   ],
   "metadata": {
    "collapsed": false
   }
  },
  {
   "cell_type": "markdown",
   "source": [
    "Solution e)\n",
    "\n",
    "Beside speed, there are also other metrics: latency and packet loss, which can also be used to measure the network performance.\n",
    "\n",
    "There are two critical phases: \"slow start\" and \"additive increase multiplicative decrease (AIMD)\".\n",
    "During TCP slow start, the transmission rate is far lower than the network capacity.\n",
    "During the AIMD, instantaneous TCP throughput continually varies.\n",
    "In order to fill up the network, we need multiple connections to keep it saturate.\n",
    "\n",
    "Also, because of \"slow start\", we need to measure a long period to reduce the impact of this stage.\n",
    "\n",
    "One confounding factor is the \"bottleneck\". The whole capacity will be determined by the bottleneck link.\n",
    "So the WIFI or home router might be the \"bottleneck\" of the whole link.\n",
    "\n",
    "Another confounding factor can be \"Packet loss rate\". Because TCP use packet loss to adjust the best transmission rate.\n",
    "If the packet loss occurs at home, like \"low quality cable\", the measured throughput can be lower than the actual value."
   ],
   "metadata": {
    "collapsed": false
   }
  },
  {
   "cell_type": "markdown",
   "source": [
    "f) Download most recent month, i.e., Aug 2020 (2 GB). Unpack and inspect the data to get an understanding\n",
    "of the measurements; the data dictionary from the validated data will also help with this. For the next tasks,\n",
    "we will look at multi-threaded download and upload measurements over IPv4 and IPv6. You can ignore the\n",
    "measurements for other metrics for now. How are download and upload speeds measured?\n",
    "Based on the validated data from Sep/Oct 2018, apply the data cleansing to the data from August 2020. Keep\n",
    "the IPv4 and IPv6 data separate. Remove measurements that\n",
    "\n",
    "• failed,\n",
    "\n",
    "• were on-net measurements (i.e., only keep MLab and Level3 measurements),\n",
    "\n",
    "• and were measured with a “bad” server (cf. cleanup scripts provided by the FCC).\n",
    "\n",
    "Further, make sure to remove all measurements from excluded units. What is the difference between on-net\n",
    "and off-net measurements? Note that while the resulting dataset will not be fully valid for 2020, it is the most\n",
    "up-to-date validated data and shall thus be sufficient for this assignment. Submit your answers and data\n",
    "cleansing script(s). (3 points)"
   ],
   "metadata": {
    "collapsed": false,
    "pycharm": {
     "name": "#%% md\n"
    }
   }
  },
  {
   "cell_type": "markdown",
   "source": [
    "Solution f)\n",
    "\n",
    "The test uses three concurrent TCP connections for a fixed duration of 10 seconds, records the average\n",
    "throughput. The sum of throughput divided by the time elapsed is the speed. In the csv-file, it calls \"bytes_sec_interval\".\n",
    "\n",
    "off-net node refers to a test node located outside a specific ISP’s network.\n",
    "on-net node refers to a test node located on a particular ISP’s network.\n",
    "\n",
    "off-net measurement uses off-net nodes, which means the measurement is across ISP.\n",
    "on-net measurement uses on-net nodes, which means the measurement is inside ISP.\n",
    "\n",
    "We used \"question_f.py\" to do the data cleansing. The data was from the folder \"./csv2020/202008\" and\n",
    "the output was also in the same folder, but with \"_clean\" suffix.\n",
    "\n",
    "```\n",
    "# \"curr_httppostmt6.csv\" => \"curr_httppostmt6_clean.csv\"\n",
    "# \"curr_httppostmt.csv\" => \"curr_httppostmt_clean.csv\"\n",
    "# \"curr_httpgetmt6.csv\" => \"curr_httpgetmt6_clean.csv\"\n",
    "# \"curr_httpgetmt.csv\" => \"curr_httpgetmt_clean.csv\"\n",
    "python question_f.py\n",
    "```"
   ],
   "metadata": {
    "collapsed": false
   }
  },
  {
   "cell_type": "markdown",
   "source": [
    "g) Calculate the median measured download and upload speeds for each probe over all successful measurements based on the cleansed data. Are there differences between IPv4 and IPv6 speeds? Compare the\n",
    "download and upload speeds advertised by the ISPs from d) with the probe medians over IPv4 and IPv6. Which\n",
    "percentage of customers roughly receive the throughputs they pay for? How large is the variance in cases\n",
    "where advertised throughputs are not reached? Why would users potentially not receive the advertised speeds\n",
    "they pay for? Submit your scripts and comparison discussion. (2 points)"
   ],
   "metadata": {
    "collapsed": false
   }
  },
  {
   "cell_type": "markdown",
   "source": [
    "Solution g)\n",
    "\n",
    "There were no unit profiles of data in the year 2020, so the result might have deviation by using the\n",
    "same unit profiles of year 2018.\n",
    "\n",
    "Question d used data of year 2018.\n",
    "To compare with question d, we analyzed the probes of the cleansing data of both Aug-2020 and Sep-2018.\n",
    "We ran script \"question_g.py\":\n",
    "```\n",
    "# depends on f)\n",
    "python question_g.py\n",
    "```\n",
    "We got the following output in the command-line:\n",
    "```\n",
    "Download Difference v4 & v6 (2018):  {\n",
    "    \"size\": 970,\n",
    "    \"absolute median (v4-v6)\": \"107505.500000 Bytes/s\",\n",
    "    \"absolute mean (v4-v6)\": \"472609.495876 Bytes/s\",\n",
    "    \"relative median ((v4-v6)/v6)\": \"1.375488%\",\n",
    "    \"relative mean ((v4-v6)/v6)\": \"7.149155%\"\n",
    "}\n",
    "Download Difference v4 & v6 (2020):  {\n",
    "    \"size\": 844,\n",
    "    \"absolute median (v4-v6)\": \"202595.250000 Bytes/s\",\n",
    "    \"absolute mean (v4-v6)\": \"-315166.007109 Bytes/s\",\n",
    "    \"relative median ((v4-v6)/v6)\": \"1.392598%\",\n",
    "    \"relative mean ((v4-v6)/v6)\": \"10.824374%\"\n",
    "}\n",
    "\n",
    "Upload Difference v4 & v6 (2018):  {\n",
    "    \"size\": 969,\n",
    "    \"absolute median (v4-v6)\": \"15835.500000 Bytes/s\",\n",
    "    \"absolute mean (v4-v6)\": \"173781.902993 Bytes/s\",\n",
    "    \"relative median ((v4-v6)/v6)\": \"1.388627%\",\n",
    "    \"relative mean ((v4-v6)/v6)\": \"1.850173%\"\n",
    "}\n",
    "Upload Difference v4 & v6 (2020):  {\n",
    "    \"size\": 844,\n",
    "    \"absolute median (v4-v6)\": \"21404.000000 Bytes/s\",\n",
    "    \"absolute mean (v4-v6)\": \"481036.979858 Bytes/s\",\n",
    "    \"relative median ((v4-v6)/v6)\": \"1.397731%\",\n",
    "    \"relative mean ((v4-v6)/v6)\": \"30.020396%\"\n",
    "}\n",
    "```\n",
    "According to the data of 2020, the number of probes which had both ipv4 and ipv6 data was 844.\n",
    "Among those 844 probes, the relative mean and median of speed had huge difference in both download and upload tables.\n",
    "It means: great majority had very little difference in speed between ipv4 and ipv6,\n",
    "whereas there were a few outlier probes that had significantly different speeds between ipv4 and ipv6.\n",
    "From the following table, those outliers were mostly with Cable access technology.\n",
    "\n",
    "However in the data of 2018, the difference of ipv4 and ipv6 was not so huge.\n",
    "```\n",
    "the 10% outliers Access Technology (2020 Download)\n",
    "  Technology  num_probes\n",
    "0      Cable          52\n",
    "1      Fiber          38\n",
    "2        DSL           8\n",
    "3       IPBB           7\n",
    "\n",
    "the 10% outliers Access Technology (2020 Upload)\n",
    "  Technology  num_probes\n",
    "0      Cable           7\n",
    "1        DSL           3\n",
    "2       IPBB           2\n",
    "3      Fiber           2\n",
    "```\n",
    "We compared then the measured and the advertised download and upload speeds:\n",
    "we set 3 level \"75%\", \"95%\" ,and \"99%\". In the following table, only 54.58% of ipv4 and\n",
    "66.51% of ipv6 customers roughly got the throughputs they paid for. One possible reason can be\n",
    "the dynamic distribution of usage from different customers, which means the customers have very small chance to download\n",
    " or upload with full speeds together, so the whole throughputs of ISP might lower than the sum of all\n",
    " advertised speed of customers in order to cut the costs. The variance in cases\n",
    "where advertised throughputs are not reached is listed in the following table.\n",
    "```\n",
    "v4 Speed Comparison (2018):  {\n",
    "    \"total number\": 3107,\n",
    "    \"75%\": \"number: 2531, percentage: 81.461217%\",\n",
    "    \"95%\": \"number: 1583, percentage: 50.949469%\",\n",
    "    \"99%\": \"number: 1340, percentage: 43.128420%\",\n",
    "    \"Upload variance (not reached)\": \"684.414835 Mbps^2\",\n",
    "    \"Download variance (not reached)\": \"2794.238091 Mbps^2\"\n",
    "}\n",
    "v6 Speed Comparison (2018):  {\n",
    "    \"total number\": 527,\n",
    "    \"75%\": \"number: 495, percentage: 93.927894%\",\n",
    "    \"95%\": \"number: 425, percentage: 80.645161%\",\n",
    "    \"99%\": \"number: 328, percentage: 62.239089%\",\n",
    "    \"Upload variance (not reached)\": \"86.381580 Mbps^2\",\n",
    "    \"Download variance (not reached)\": \"8008.127660 Mbps^2\"\n",
    "}\n",
    "\n",
    "v4 Speed Comparison (2020):  {\n",
    "    \"total number\": 1814,\n",
    "    \"75%\": \"number: 1510, percentage: 83.241455%\",\n",
    "    \"95%\": \"number: 1075, percentage: 59.261301%\",\n",
    "    \"99%\": \"number: 990, percentage: 54.575524%\",\n",
    "    \"Upload variance (not reached)\": \"594.832257 Mbps^2\",\n",
    "    \"Download variance (not reached)\": \"6233.065763 Mbps^2\"\n",
    "}\n",
    "v6 Speed Comparison (2020):  {\n",
    "    \"total number\": 421,\n",
    "    \"75%\": \"number: 365, percentage: 86.698337%\",\n",
    "    \"95%\": \"number: 288, percentage: 68.408551%\",\n",
    "    \"99%\": \"number: 280, percentage: 66.508314%\",\n",
    "    \"Upload variance (not reached)\": \"501.446500 Mbps^2\",\n",
    "    \"Download variance (not reached)\": \"14942.379106 Mbps^2\"\n",
    "}\n",
    "```"
   ],
   "metadata": {
    "collapsed": false
   }
  },
  {
   "cell_type": "markdown",
   "source": [
    "h) For a more fine-grained analysis, group the measured download and upload speeds for each probe per day\n",
    "(keep IPv4 and IPv6 data separate): Only keep groups of (day, probe) where at least 50% of measurements\n",
    "within the group were succesful to filter outliers. How many individual measurements (not groups) in percent\n",
    "have you detected and filtered as outliers?\n",
    "For the remaining groups, now calculate the median download and upload speeds, i.e., medians for each probe\n",
    "per day. Repeat the above steps for both IPv4 and IPv6. In order to get a more fine-grained view, separate\n",
    "these daily probe medians by access technologies in a second step.\n",
    "Finally, draw two CDF plots for the measured median throughputs, one for IPv4 and one for IPv6: Draw separate\n",
    "curves (markers or colors) for each access technology, and differentiate between download and upload speeds\n",
    "through different line styles within a plot (similar to d)). Below, you can see two examples (without upload\n",
    "speeds) for data from 2019. Submit your answer, scripts, and plots."
   ],
   "metadata": {
    "collapsed": false,
    "pycharm": {
     "name": "#%% md\n"
    }
   }
  },
  {
   "cell_type": "markdown",
   "source": [
    "Solution h)\n",
    "\n",
    "After the cleansing of data, we did not have the \"success\" information. Then we can not calculate the \"at least 50% of successful measurements\".\n",
    "So we used the **raw data** for this question.\n",
    "Firstly, we ran the script:\n",
    "```\n",
    "python question_h.py\n",
    "```\n",
    "In the command-line, we got the information about detected and filtered outliers:\n",
    "```\n",
    "total: 8898, keep: 8881, drop: 17, drop percentage: 0.191054%\n",
    "total: 1382561, keep: 1289683, drop: 92878, drop percentage: 6.717823%\n",
    "```\n",
    "Meanwhile, the plots saved into \"./question_h_output\" folder.\n",
    "\n",
    "Comparing two downstream plots in different years, the download speed median of 2020 which corresponds to the point of CDF=0.5\n",
    "is smaller than the year 2019. It means the download speed median decreases. A possible reason can be: in the COVID-19 period,\n",
    "more people use internet with long time streaming, such as online filming and online meeting. So the downstream is shared\n",
    "by more people at the same time. The measurement may have bottleneck by the ISPs or the intermediate routers. So the speed goes down a little."
   ],
   "metadata": {
    "collapsed": false,
    "pycharm": {
     "name": "#%% md\n"
    }
   }
  }
 ],
 "metadata": {
  "kernelspec": {
   "display_name": "Python 3",
   "language": "python",
   "name": "python3"
  },
  "language_info": {
   "codemirror_mode": {
    "name": "ipython",
    "version": 2
   },
   "file_extension": ".py",
   "mimetype": "text/x-python",
   "name": "python",
   "nbconvert_exporter": "python",
   "pygments_lexer": "ipython2",
   "version": "2.7.6"
  }
 },
 "nbformat": 4,
 "nbformat_minor": 0
}